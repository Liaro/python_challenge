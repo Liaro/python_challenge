{
 "cells": [
  {
   "cell_type": "markdown",
   "metadata": {},
   "source": [
    "# 課題１"
   ]
  },
  {
   "cell_type": "markdown",
   "metadata": {},
   "source": [
    "1〜10の数字を含むリストを作成してください。"
   ]
  },
  {
   "cell_type": "code",
   "execution_count": 1,
   "metadata": {
    "collapsed": false
   },
   "outputs": [
    {
     "name": "stdout",
     "output_type": "stream",
     "text": [
      "[1, 2, 3, 4, 5, 6, 7, 8, 9, 10]\n"
     ]
    }
   ],
   "source": [
    "ans1 = [x for x in range(1,11)]\n",
    "print(ans1)"
   ]
  },
  {
   "cell_type": "markdown",
   "metadata": {},
   "source": [
    "# 課題2"
   ]
  },
  {
   "cell_type": "markdown",
   "metadata": {},
   "source": [
    "1〜10の偶数のみを含むリストを作成してください。"
   ]
  },
  {
   "cell_type": "code",
   "execution_count": 2,
   "metadata": {
    "collapsed": false
   },
   "outputs": [
    {
     "name": "stdout",
     "output_type": "stream",
     "text": [
      "[2, 4, 6, 8, 10]\n"
     ]
    }
   ],
   "source": [
    "ans2 = [x for x in range(2,11,2)]\n",
    "print(ans2)"
   ]
  },
  {
   "cell_type": "markdown",
   "metadata": {},
   "source": [
    "# 課題3"
   ]
  },
  {
   "cell_type": "markdown",
   "metadata": {},
   "source": [
    "[\"a\",\"b\",\"c\",\"d\",\"e\",\"f\"]というリストがある前提で{0: 'a', 1: 'b', 2: 'c', 3: 'd', 4: 'e', 5: 'f'}を作成してください。"
   ]
  },
  {
   "cell_type": "code",
   "execution_count": 3,
   "metadata": {
    "collapsed": false
   },
   "outputs": [
    {
     "name": "stdout",
     "output_type": "stream",
     "text": [
      "{0: 'a', 1: 'b', 2: 'c', 3: 'd', 4: 'e', 5: 'f'}\n"
     ]
    }
   ],
   "source": [
    "test = [\"a\",\"b\",\"c\",\"d\",\"e\",\"f\"]\n",
    "dic = {i: j for i, j in enumerate(test)}\n",
    "print(dic)"
   ]
  },
  {
   "cell_type": "markdown",
   "metadata": {},
   "source": [
    "# 課題4"
   ]
  },
  {
   "cell_type": "markdown",
   "metadata": {},
   "source": [
    "Humanクラスを作成してください。ただし以下のものを実装してください。\n",
    "属性として名前、年齢、性別、身長、体重を持つ\n",
    "年齢をインクリメントするインスタンスメソッドを持つ\n",
    "{\"山田\", 23歳, 男, 170.3cm, 60.2kg}, {\"高橋\", 30歳, 女, 165.2cm, 46.2kg}の二つのインスタンスを作成\n",
    "どちらかの年齢をインクリメント\n",
    "作成したインスタンスをカウントするクラスメソッドを持つ(インスタンス作成時にカウントするように実装してください)"
   ]
  },
  {
   "cell_type": "code",
   "execution_count": 14,
   "metadata": {
    "collapsed": false
   },
   "outputs": [
    {
     "name": "stdout",
     "output_type": "stream",
     "text": [
      "name:山田, age:24, sex:男, height:170.3, weight:60.2\n",
      "name:高橋, age:30, sex:女, height:165.2, weight:46.2\n",
      "2\n"
     ]
    }
   ],
   "source": [
    "class Human:\n",
    "    count = 0\n",
    "    \n",
    "    def __init__(self,name,age,sex,height,weight):\n",
    "        self.name = name\n",
    "        self.age = age\n",
    "        self.sex = sex\n",
    "        self.height = height\n",
    "        self.weight = weight\n",
    "        self.countInstance()\n",
    "    \n",
    "    def get_old(self):\n",
    "        self.age += 1\n",
    "    \n",
    "    @classmethod\n",
    "    def countInstance(cls):\n",
    "        cls.count += 1\n",
    "        \n",
    "yamada = Human(name=\"山田\",age=23,sex=\"男\",height=170.3,\n",
    "                               weight=60.2)\n",
    "takahashi = Human(name=\"高橋\",age=30,sex=\"女\",height=165.2,\n",
    "                                  weight=46.2)\n",
    "\n",
    "yamada.get_old()\n",
    "\n",
    "print(f\"name:{yamada.name}, age:{yamada.age}, sex:{yamada.sex},\", end=\" \")\n",
    "print(f\"height:{yamada.height}, weight:{yamada.weight}\")\n",
    "print(f\"name:{takahashi.name}, age:{takahashi.age},\", end=\" \")\n",
    "print(f\"sex:{takahashi.sex}, height:{takahashi.height}, weight:{takahashi.weight}\")\n",
    "print(f\"{Human.count}\")"
   ]
  },
  {
   "cell_type": "markdown",
   "metadata": {},
   "source": [
    "# 課題5"
   ]
  },
  {
   "cell_type": "markdown",
   "metadata": {},
   "source": [
    "numpyを用いて自分で自由に作った二つの行列の積を計算してください。"
   ]
  },
  {
   "cell_type": "code",
   "execution_count": 15,
   "metadata": {
    "collapsed": false
   },
   "outputs": [
    {
     "data": {
      "text/plain": [
       "array([[12,  7],\n",
       "       [26, 17]])"
      ]
     },
     "execution_count": 15,
     "metadata": {},
     "output_type": "execute_result"
    }
   ],
   "source": [
    "import numpy as np\n",
    "a = np.array([[1,2],[3,4]])\n",
    "b = np.array([[2,3],[5,2]])\n",
    "a.dot(b)"
   ]
  },
  {
   "cell_type": "markdown",
   "metadata": {},
   "source": [
    "# 課題6"
   ]
  },
  {
   "cell_type": "markdown",
   "metadata": {},
   "source": [
    "numpyを用いて自分で自由に作った二つのベクトルのcosを計算してください。"
   ]
  },
  {
   "cell_type": "code",
   "execution_count": 16,
   "metadata": {
    "collapsed": false
   },
   "outputs": [
    {
     "name": "stdout",
     "output_type": "stream",
     "text": [
      "0.0587220219515\n"
     ]
    }
   ],
   "source": [
    "a = np.array([-2.,1.])\n",
    "b = np.array([3.,7.])\n",
    "print(a.dot(b)/(np.linalg.norm(a)*np.linalg.norm(b)))"
   ]
  }
 ],
 "metadata": {
  "kernelspec": {
   "display_name": "Python 3",
   "language": "python",
   "name": "python3"
  },
  "language_info": {
   "codemirror_mode": {
    "name": "ipython",
    "version": 3
   },
   "file_extension": ".py",
   "mimetype": "text/x-python",
   "name": "python",
   "nbconvert_exporter": "python",
   "pygments_lexer": "ipython3",
   "version": "3.6.0"
  }
 },
 "nbformat": 4,
 "nbformat_minor": 2
}

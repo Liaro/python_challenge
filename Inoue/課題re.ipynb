{
 "cells": [
  {
   "cell_type": "code",
   "execution_count": 2,
   "metadata": {
    "collapsed": false
   },
   "outputs": [
    {
     "data": {
      "text/plain": [
       "[1, 2, 3, 4, 5, 6, 7, 8, 9, 10]"
      ]
     },
     "execution_count": 2,
     "metadata": {},
     "output_type": "execute_result"
    }
   ],
   "source": [
    "#課題1_1~10を含むリスト作成\n",
    "l = []\n",
    "for i in range(10):\n",
    "    l.append(i+1)\n",
    "l"
   ]
  },
  {
   "cell_type": "code",
   "execution_count": 4,
   "metadata": {
    "collapsed": false
   },
   "outputs": [
    {
     "data": {
      "text/plain": [
       "[2, 4, 6, 8, 10]"
      ]
     },
     "execution_count": 4,
     "metadata": {},
     "output_type": "execute_result"
    }
   ],
   "source": [
    "#課題2_1~10の偶数のみのリスト作成\n",
    "l = []\n",
    "for i in range(10):\n",
    "    if (i+1)%2==0:\n",
    "        l.append(i+1)\n",
    "l"
   ]
  },
  {
   "cell_type": "code",
   "execution_count": 18,
   "metadata": {
    "collapsed": false
   },
   "outputs": [
    {
     "data": {
      "text/plain": [
       "{0: 'a', 1: 'b', 2: 'c', 3: 'd', 4: 'e', 5: 'f'}"
      ]
     },
     "execution_count": 18,
     "metadata": {},
     "output_type": "execute_result"
    }
   ],
   "source": [
    "#課題3_辞書の作成\n",
    "l1 = [\"a\",\"b\",\"c\",\"d\",\"e\",\"f\"]\n",
    "l2 = []\n",
    "for i in range(6):\n",
    "    l2.append(i)\n",
    "\n",
    "d1 = []\n",
    "for i, j in zip(l1, l2):\n",
    "    l3 = [j, i]\n",
    "    d1.append(l3)\n",
    "d2 = dict(d1)\n",
    "d2\n",
    "\n"
   ]
  },
  {
   "cell_type": "code",
   "execution_count": 108,
   "metadata": {
    "collapsed": false
   },
   "outputs": [],
   "source": [
    "#課題4_Humanクラス作成\n",
    "class Human:\n",
    "    counts = 0\n",
    "    \n",
    "    def __init__(self, name, age, sex, height, weight):\n",
    "        self.name = name\n",
    "        self.age = age\n",
    "        self.sex = sex\n",
    "        self.height = height\n",
    "        self.weight = weight\n",
    "        Human.counts += 1\n",
    "\n",
    "    def age_increment(self):\n",
    "        self.age += 1 \n",
    "        print(self.age)\n",
    "        \n",
    "    def instance_counts(self):\n",
    "        print(Human.counts)"
   ]
  },
  {
   "cell_type": "code",
   "execution_count": 109,
   "metadata": {
    "collapsed": false
   },
   "outputs": [],
   "source": [
    "#課題4_インスタンス作成\n",
    "Yamada = Human(\"山田\", 23,  \"男\", 170.3, 60.2)\n",
    "Takahashi = Human(\"高橋\", 30, \"女\", 165.2, 46.2)"
   ]
  },
  {
   "cell_type": "code",
   "execution_count": 110,
   "metadata": {
    "collapsed": false
   },
   "outputs": [
    {
     "name": "stdout",
     "output_type": "stream",
     "text": [
      "24\n"
     ]
    }
   ],
   "source": [
    "#課題4_山田さんの年齢をインクリメント\n",
    "Yamada.age_increment()"
   ]
  },
  {
   "cell_type": "code",
   "execution_count": 111,
   "metadata": {
    "collapsed": false
   },
   "outputs": [
    {
     "name": "stdout",
     "output_type": "stream",
     "text": [
      "2\n"
     ]
    }
   ],
   "source": [
    "#課題4_作成されたインスタンスをカウント\n",
    "Yamada.instance_counts()"
   ]
  },
  {
   "cell_type": "code",
   "execution_count": 130,
   "metadata": {
    "collapsed": false
   },
   "outputs": [
    {
     "data": {
      "text/plain": [
       "matrix([[19, 22],\n",
       "        [43, 50]])"
      ]
     },
     "execution_count": 130,
     "metadata": {},
     "output_type": "execute_result"
    }
   ],
   "source": [
    "#課題5_行列の積を計算\n",
    "import numpy as np\n",
    "\n",
    "a = np.matrix([[1,2],[3,4]])\n",
    "b = np.matrix([[5,6],[7,8]])\n",
    "CrossProduct = np.dot(a,b)\n",
    "CrossProduct"
   ]
  },
  {
   "cell_type": "code",
   "execution_count": 134,
   "metadata": {
    "collapsed": false
   },
   "outputs": [
    {
     "data": {
      "text/plain": [
       "0.98386991009990743"
      ]
     },
     "execution_count": 134,
     "metadata": {},
     "output_type": "execute_result"
    }
   ],
   "source": [
    "#課題6_ベクトルのcosを計算\n",
    "c = np.array([1,2])\n",
    "d = np.array([3,4])\n",
    "DotProduct = np.dot(c,d)\n",
    "length_c = np.linalg.norm(c)\n",
    "length_d = np.linalg.norm(d)\n",
    "cos = DotProduct / (length_c * length_d)\n",
    "cos"
   ]
  }
 ],
 "metadata": {
  "kernelspec": {
   "display_name": "Python 3",
   "language": "python",
   "name": "python3"
  },
  "language_info": {
   "codemirror_mode": {
    "name": "ipython",
    "version": 3
   },
   "file_extension": ".py",
   "mimetype": "text/x-python",
   "name": "python",
   "nbconvert_exporter": "python",
   "pygments_lexer": "ipython3",
   "version": "3.6.0"
  }
 },
 "nbformat": 4,
 "nbformat_minor": 2
}

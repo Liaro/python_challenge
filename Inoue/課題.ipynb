{
 "cells": [
  {
   "cell_type": "code",
   "execution_count": null,
   "metadata": {
    "collapsed": true
   },
   "outputs": [],
   "source": [
    "class CLASS:\n",
    "    def __init__ (self):\n",
    "        self.list1 = [30, \"inoue\", False]\n",
    "        self.list2 = [22, \"yanagi\", True]\n",
    "        self.list3 = [18, \"tachibana\", True]\n",
    "        self.list4 = [24, \"hayashi\", False]\n",
    "        このときlistの長さはすべて\n",
    "        for i in range(len(list1))\n",
    "            age, name, gakushin =  list1[i], list2[i], list3[i]\n",
    "            \n",
    "        pass\n",
    "\n",
    "    def average(self)\n",
    "    \n",
    "taisha = CLASS([年齢のリスト], [名前のリスト], [True Falseの学振有無リスト])\n",
    "\n",
    "\n",
    "taisha.gakushin()\n",
    "#学振を持っている人の名前を表示する\n",
    "taisha.average()\n",
    "#年齢の平均値\n",
    "\n",
    "\n",
    "\n",
    "複合的にやるには\n",
    "class Person:\n",
    "    def __init__ (self, name, age, gakushin):\n",
    "        self\n",
    "        "
   ]
  },
  {
   "cell_type": "code",
   "execution_count": 51,
   "metadata": {
    "collapsed": false
   },
   "outputs": [
    {
     "name": "stdout",
     "output_type": "stream",
     "text": [
      "[[30, 'inoue', False], [22, 'yanagi', True], [18, 'tachibana', True], [24, 'hayashi', False]]\n",
      "[[30, 22, 18, 24], ['inoue', 'yanagi', 'tachibana', 'hayashi'], [False, True, True, False]]\n",
      "代謝の学生の平均年齢は 23.5 です。\n",
      "学振有： yanagi\n",
      "学振有： tachibana\n",
      "学振無： inoue\n",
      "学振無： hayashi\n"
     ]
    }
   ],
   "source": [
    "#複数のリストを一つにまとめる\n",
    "list1 = [30, \"inoue\", False]\n",
    "list2 = [22, \"yanagi\", True]\n",
    "list3 = [18, \"tachibana\", True]\n",
    "list4 = [24, \"hayashi\", False]\n",
    "list_individual = [list1, list2, list3, list4]\n",
    "list_item = [[], [], []]\n",
    "for i in range(3):\n",
    "    for j in range(len(list_individual)):\n",
    "        list_item[i].append(list_individual[j][i])\n",
    "print(list_individual)\n",
    "print(list_item)\n",
    "        \n",
    "    \n",
    "#年齢の平均点を計算する\n",
    "sum = 0\n",
    "for k in range(len(list_individual)):\n",
    "    sum = sum + list_item[0][k]\n",
    "age_average = sum / len(list_individual)\n",
    "print(\"代謝の学生の平均年齢は\", age_average, \"です。\")\n",
    "\n",
    "    \n",
    "#学振の有無を判断する\n",
    "gakushin = []\n",
    "no_gakushin = []\n",
    "for l in range(len(list_individual)):\n",
    "    if list_item[2][l] == True:\n",
    "        gakushin.append(list_item[1][l])\n",
    "    else:\n",
    "        no_gakushin.append(list_item[1][l])\n",
    "for m in gakushin:\n",
    "    print(\"学振有：\", m)\n",
    "for n in no_gakushin:\n",
    "    print(\"学振無：\", n)\n",
    "\n"
   ]
  },
  {
   "cell_type": "code",
   "execution_count": 58,
   "metadata": {
    "collapsed": false
   },
   "outputs": [
    {
     "ename": "TypeError",
     "evalue": "gakushin_person() missing 1 required positional argument: 'self'",
     "output_type": "error",
     "traceback": [
      "\u001b[0;31m---------------------------------------------------------------------------\u001b[0m",
      "\u001b[0;31mTypeError\u001b[0m                                 Traceback (most recent call last)",
      "\u001b[0;32m<ipython-input-58-8260fbe7fddb>\u001b[0m in \u001b[0;36m<module>\u001b[0;34m()\u001b[0m\n\u001b[1;32m     35\u001b[0m             \u001b[0mprint\u001b[0m\u001b[1;33m(\u001b[0m\u001b[1;34m\"学振無：\"\u001b[0m\u001b[1;33m,\u001b[0m \u001b[0mn\u001b[0m\u001b[1;33m)\u001b[0m\u001b[1;33m\u001b[0m\u001b[0m\n\u001b[1;32m     36\u001b[0m \u001b[1;33m\u001b[0m\u001b[0m\n\u001b[0;32m---> 37\u001b[0;31m \u001b[0mprint\u001b[0m\u001b[1;33m(\u001b[0m\u001b[0mTaisha\u001b[0m\u001b[1;33m.\u001b[0m\u001b[0mgakushin_person\u001b[0m\u001b[1;33m(\u001b[0m\u001b[1;33m)\u001b[0m\u001b[1;33m)\u001b[0m\u001b[1;33m\u001b[0m\u001b[0m\n\u001b[0m",
      "\u001b[0;31mTypeError\u001b[0m: gakushin_person() missing 1 required positional argument: 'self'"
     ]
    }
   ],
   "source": [
    "class Taisha:\n",
    "    \n",
    "    #複数のリストを一つにまとめる\n",
    "    def __init__(self):\n",
    "        self.list1 = [30, \"inoue\", False]\n",
    "        self.list2 = [22, \"yanagi\", True]\n",
    "        self.list3 = [18, \"tachibana\", True]\n",
    "        self.list4 = [24, \"hayashi\", False]\n",
    "        self.list_individual = [self.list1, self.list2, self.list3, self.list4]\n",
    "        self.list_item = [[], [], []]\n",
    "        for i in range(len(self.list_item)):\n",
    "            for j in range(len(self.list_individual)):\n",
    "                self.list_item[i].append(self.list_individual[j][i])\n",
    "\n",
    "    #年齢の平均点を計算する\n",
    "    def average(self):\n",
    "        sum = 0\n",
    "        for k in range(len(self.list_individual)):\n",
    "            sum = sum + self.list_item[0][k]\n",
    "        age_average = sum / len(self.list_individual)\n",
    "        print(\"代謝の学生の平均年齢は\", age_average, \"です。\")\n",
    "\n",
    "    #学振の有無を判断する\n",
    "    def gakushin_person(self):\n",
    "        gakushin = []\n",
    "        no_gakushin = []\n",
    "        for l in range(len(self.list_individual)):\n",
    "            if self.list_item[2][l] == True:\n",
    "                gakushin.append(self.list_item[1][l])\n",
    "            else:\n",
    "                no_gakushin.append(self.list_item[1][l])\n",
    "        for m in gakushin:\n",
    "            print(\"学振有：\", m)\n",
    "        for n in no_gakushin:\n",
    "            print(\"学振無：\", n)\n",
    "\n",
    "print(Taisha.gakushin_person())"
   ]
  },
  {
   "cell_type": "code",
   "execution_count": 6,
   "metadata": {
    "collapsed": false
   },
   "outputs": [
    {
     "name": "stdout",
     "output_type": "stream",
     "text": [
      "代謝の学生の平均年齢は 23.5 です。\n",
      "学振有： yanagi\n",
      "学振有： tachibana\n",
      "学振無： inoue\n",
      "学振無： hayashi\n",
      "['__class__', '__delattr__', '__dict__', '__dir__', '__doc__', '__eq__', '__format__', '__ge__', '__getattribute__', '__gt__', '__hash__', '__init__', '__init_subclass__', '__le__', '__lt__', '__module__', '__ne__', '__new__', '__reduce__', '__reduce_ex__', '__repr__', '__setattr__', '__sizeof__', '__str__', '__subclasshook__', '__weakref__', 'abstract', 'age_average', 'average', 'gakushin', 'gakushin_person', 'list_individual', 'list_item', 'no_gakushin']\n",
      "<class '__main__.Taisha'>\n"
     ]
    }
   ],
   "source": [
    "class Taisha:\n",
    "    '''\n",
    "    to initialize, list variables are required.\n",
    "    $ Inoue = Taisha(list1, list2, list3, list4)\n",
    "    '''\n",
    "    #複数のリストを個人、項目別にまとめる\n",
    "    def __init__(self, list_1, list_2, list_3, list_4):\n",
    "        self.list_individual = [list_1, list_2, list_3, list_4]\n",
    "        self.list_item = [[], [], []]\n",
    "        for i in range(len(self.list_item)):\n",
    "            for j in range(len(self.list_individual)):\n",
    "                self.list_item[i].append(self.list_individual[j][i])\n",
    "                \n",
    "        self.gakushin, self.no_gakushin = self.gakushin_person()\n",
    "        self.age_average = self.average()\n",
    "        self.abstract()\n",
    "                \n",
    "    #年齢の平均点を計算する\n",
    "    def average(self):\n",
    "        sum = 0\n",
    "        for k in range(len(self.list_individual)):\n",
    "            sum = sum + self.list_item[0][k]\n",
    "        age_average = sum / len(self.list_individual)\n",
    "        return age_average\n",
    "       \n",
    "    #学振の有無を判断する\n",
    "    def gakushin_person(self):\n",
    "        gakushin = []\n",
    "        no_gakushin = []\n",
    "        for l in range(len(self.list_individual)):\n",
    "            if self.list_item[2][l] == True:\n",
    "                gakushin.append(self.list_item[1][l])\n",
    "            else:\n",
    "                no_gakushin.append(self.list_item[1][l])\n",
    "        return gakushin, no_gakushin\n",
    "\n",
    "    #データを表示する\n",
    "    def abstract(self):\n",
    "        print(\"代謝の学生の平均年齢は\", self.age_average, \"です。\")\n",
    "        for m in self.gakushin:\n",
    "            print(\"学振有：\", m)\n",
    "        for n in self.no_gakushin:\n",
    "            print(\"学振無：\", n)\n",
    "\n",
    "            \n",
    "list_1 = [30, \"inoue\", False]\n",
    "list_2 = [22, \"yanagi\", True]\n",
    "list_3 = [18, \"tachibana\", True]\n",
    "list_4 = [24, \"hayashi\", False]\n",
    "\n",
    "Inoue = Taisha(list_1, list_2, list_3, list_4)\n",
    "\n",
    "print(dir(Inoue))\n",
    "print(type(Inoue))"
   ]
  },
  {
   "cell_type": "code",
   "execution_count": 5,
   "metadata": {
    "collapsed": false
   },
   "outputs": [
    {
     "ename": "NameError",
     "evalue": "name 'Inoue' is not defined",
     "output_type": "error",
     "traceback": [
      "\u001b[0;31m---------------------------------------------------------------------------\u001b[0m",
      "\u001b[0;31mNameError\u001b[0m                                 Traceback (most recent call last)",
      "\u001b[0;32m<ipython-input-5-b5f8ce545ea9>\u001b[0m in \u001b[0;36m<module>\u001b[0;34m()\u001b[0m\n\u001b[0;32m----> 1\u001b[0;31m \u001b[0mprint\u001b[0m\u001b[1;33m(\u001b[0m\u001b[0mdir\u001b[0m\u001b[1;33m(\u001b[0m\u001b[0mInoue\u001b[0m\u001b[1;33m)\u001b[0m\u001b[1;33m)\u001b[0m\u001b[1;33m\u001b[0m\u001b[0m\n\u001b[0m\u001b[1;32m      2\u001b[0m \u001b[0mprint\u001b[0m\u001b[1;33m(\u001b[0m\u001b[0mtype\u001b[0m\u001b[1;33m(\u001b[0m\u001b[0mInoue\u001b[0m\u001b[1;33m)\u001b[0m\u001b[1;33m)\u001b[0m\u001b[1;33m\u001b[0m\u001b[0m\n",
      "\u001b[0;31mNameError\u001b[0m: name 'Inoue' is not defined"
     ]
    }
   ],
   "source": []
  },
  {
   "cell_type": "code",
   "execution_count": 10,
   "metadata": {
    "collapsed": false
   },
   "outputs": [
    {
     "name": "stdout",
     "output_type": "stream",
     "text": [
      "代謝の学生の平均年齢は 23.5 です。\n",
      "学振有： yanagi\n",
      "学振有： tachibana\n",
      "学振無： inoue\n",
      "学振無： hayashi\n"
     ]
    }
   ],
   "source": [
    "Inoue.abstract()"
   ]
  },
  {
   "cell_type": "code",
   "execution_count": 3,
   "metadata": {
    "collapsed": false
   },
   "outputs": [
    {
     "name": "stdout",
     "output_type": "stream",
     "text": [
      "['__add__', '__class__', '__contains__', '__delattr__', '__delitem__', '__dir__', '__doc__', '__eq__', '__format__', '__ge__', '__getattribute__', '__getitem__', '__gt__', '__hash__', '__iadd__', '__imul__', '__init__', '__init_subclass__', '__iter__', '__le__', '__len__', '__lt__', '__mul__', '__ne__', '__new__', '__reduce__', '__reduce_ex__', '__repr__', '__reversed__', '__rmul__', '__setattr__', '__setitem__', '__sizeof__', '__str__', '__subclasshook__', 'append', 'clear', 'copy', 'count', 'extend', 'index', 'insert', 'pop', 'remove', 'reverse', 'sort']\n",
      "<class 'list'>\n"
     ]
    }
   ],
   "source": [
    "l = [1, 2, 3, 4, 5]\n",
    "print(dir(l))\n",
    "print(type(l))"
   ]
  },
  {
   "cell_type": "code",
   "execution_count": null,
   "metadata": {
    "collapsed": true
   },
   "outputs": [],
   "source": []
  }
 ],
 "metadata": {
  "kernelspec": {
   "display_name": "Python 3",
   "language": "python",
   "name": "python3"
  },
  "language_info": {
   "codemirror_mode": {
    "name": "ipython",
    "version": 3
   },
   "file_extension": ".py",
   "mimetype": "text/x-python",
   "name": "python",
   "nbconvert_exporter": "python",
   "pygments_lexer": "ipython3",
   "version": "3.6.0"
  }
 },
 "nbformat": 4,
 "nbformat_minor": 2
}

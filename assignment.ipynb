{
 "cells": [
  {
   "cell_type": "code",
   "execution_count": 7,
   "metadata": {
    "collapsed": false,
    "scrolled": false
   },
   "outputs": [
    {
     "name": "stdout",
     "output_type": "stream",
     "text": [
      "[1, 2, 3, 4, 5, 6, 7, 8, 9, 10]\n",
      "[2, 4, 6, 8, 10]\n",
      "{0: 'a', 1: 'b', 2: 'c', 3: 'd', 4: 'e', 5: 'f'}\n"
     ]
    }
   ],
   "source": [
    "#課題1\n",
    "list = [1,2,3,4,5,6,7,8,9,10]\n",
    "print(list)\n",
    "\n",
    "#課題2\n",
    "evens = list[1::2]\n",
    "print(evens)\n",
    "\n",
    "#課題3\n",
    "alphabets = [\"a\",\"b\",\"c\",\"d\",\"e\",\"f\"]\n",
    "dict = {}\n",
    "for i,n in enumerate(alphabets):\n",
    "    dict.update({i:n})\n",
    "    \n",
    "print(dict)"
   ]
  },
  {
   "cell_type": "code",
   "execution_count": 14,
   "metadata": {
    "collapsed": false
   },
   "outputs": [
    {
     "name": "stdout",
     "output_type": "stream",
     "text": [
      "24\n",
      "2\n"
     ]
    }
   ],
   "source": [
    "#課題4\n",
    "class Human:\n",
    "    counter = 0\n",
    "    def __init__(self, name, age, sex, height, weight):\n",
    "        self.n = name\n",
    "        self.a = age\n",
    "        self.s = sex\n",
    "        self.h = height\n",
    "        self.w = weight\n",
    "        Human.counter += 1\n",
    "        \n",
    "    def increment(self):\n",
    "        self.a += 1\n",
    "        \n",
    "y = Human(\"山田\",23,\"男\",170.3,60.2)\n",
    "t = Human(\"高橋\",30,\"女\",165.2,46.2)\n",
    "\n",
    "y.increment()\n",
    "print(y.a)\n",
    "\n",
    "print(Human.counter)"
   ]
  },
  {
   "cell_type": "code",
   "execution_count": 15,
   "metadata": {
    "collapsed": false
   },
   "outputs": [
    {
     "name": "stdout",
     "output_type": "stream",
     "text": [
      "[[ 9 12 15]\n",
      " [14 19 24]\n",
      " [19 26 33]]\n"
     ]
    }
   ],
   "source": [
    "#課題5\n",
    "import numpy as np\n",
    "\n",
    "A = np.array([[1,2],[2,3],[3,4]])\n",
    "B = np.array([[1,2,3],[4,5,6]])\n",
    "print(np.dot(A,B))"
   ]
  },
  {
   "cell_type": "code",
   "execution_count": 18,
   "metadata": {
    "collapsed": false
   },
   "outputs": [
    {
     "name": "stdout",
     "output_type": "stream",
     "text": [
      "cos = 0.861118704783965\n"
     ]
    }
   ],
   "source": [
    "#課題6\n",
    "import numpy as np\n",
    "\n",
    "A = np.array([1,2,3])\n",
    "B = np.array([-1,9,6])\n",
    "\n",
    "a = np.linalg.norm(A)\n",
    "b = np.linalg.norm(B)\n",
    "c = np.dot(A,B)\n",
    "\n",
    "print(\"cos = {}\".format(c/(a*b)))"
   ]
  },
  {
   "cell_type": "code",
   "execution_count": null,
   "metadata": {
    "collapsed": true
   },
   "outputs": [],
   "source": []
  }
 ],
 "metadata": {
  "kernelspec": {
   "display_name": "Python 3",
   "language": "python",
   "name": "python3"
  },
  "language_info": {
   "codemirror_mode": {
    "name": "ipython",
    "version": 3
   },
   "file_extension": ".py",
   "mimetype": "text/x-python",
   "name": "python",
   "nbconvert_exporter": "python",
   "pygments_lexer": "ipython3",
   "version": "3.6.0"
  }
 },
 "nbformat": 4,
 "nbformat_minor": 2
}

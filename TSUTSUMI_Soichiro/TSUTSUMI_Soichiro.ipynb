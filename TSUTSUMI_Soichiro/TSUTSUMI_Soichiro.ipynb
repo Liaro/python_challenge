{
 "cells": [
  {
   "cell_type": "code",
   "execution_count": 38,
   "metadata": {},
   "outputs": [
    {
     "data": {
      "text/plain": [
       "[1, 2, 3, 4, 5, 6, 7, 8, 9, 10]"
      ]
     },
     "execution_count": 38,
     "metadata": {},
     "output_type": "execute_result"
    }
   ],
   "source": [
    "#課題1\n",
    "\n",
    "#1から11未満の整数のリストnumを作成\n",
    "num = list(range(1,11))\n",
    "num"
   ]
  },
  {
   "cell_type": "code",
   "execution_count": 44,
   "metadata": {},
   "outputs": [
    {
     "data": {
      "text/plain": [
       "[2, 4, 6, 8, 10]"
      ]
     },
     "execution_count": 44,
     "metadata": {},
     "output_type": "execute_result"
    }
   ],
   "source": [
    "#課題2\n",
    "\n",
    "#上で作った1〜10の数字を含むリストnumを利用してスライスで、\n",
    "#num[1] から順に　evenを作成\n",
    "even = num[1::2]\n",
    "even"
   ]
  },
  {
   "cell_type": "code",
   "execution_count": 41,
   "metadata": {},
   "outputs": [
    {
     "data": {
      "text/plain": [
       "{0: 'a', 1: 'b', 2: 'c', 3: 'd', 4: 'e', 5: 'f'}"
      ]
     },
     "execution_count": 41,
     "metadata": {},
     "output_type": "execute_result"
    }
   ],
   "source": [
    "#課題3\n",
    "\n",
    "#在る前提のリスト\n",
    "atof = [\"a\",\"b\",\"c\",\"d\",\"e\",\"f\"]\n",
    "\n",
    "#0〜5の整数をキー、前提となるリストのアルファベット一文字づつの文字列を値とする、\n",
    "#辞書型のオブジェクトを作成せよという課題だと解釈しました。\n",
    "#辞書型の内包表記を使って、リストの値を値とし、\n",
    "#そのindexをキーとする辞書型のオブジェクトdを作成\n",
    "d = {i:atof[i] for i in range(len(atof))}\n",
    "d"
   ]
  },
  {
   "cell_type": "code",
   "execution_count": 48,
   "metadata": {
    "collapsed": true
   },
   "outputs": [],
   "source": [
    "#課題4\n",
    "\n",
    "class Human:\n",
    "    \"\"\"個人につての情報を扱うクラス\"\"\"\n",
    "    ctr = 0\n",
    "    def __init__(self, name, year, sex, length, weight):\n",
    "        \"\"\"\n",
    "        コンストラクタではインスタンス変数を初期化し、\n",
    "        作成したインスタンスの数を数えるクラスメソッド count_instance を呼び出す。\n",
    "        \"\"\"\n",
    "        #引数をインスタンス変数に代入\n",
    "        self.name = name\n",
    "        self.year = year\n",
    "        self.sex = sex\n",
    "        self.length = length\n",
    "        self.weight = weight\n",
    "        #作成したインスタンスを作成する。\n",
    "        Human.count_instance()\n",
    "    def pass_a_year(self):\n",
    "        \"\"\"年齢をインクリメントするインスタンスメソッド\"\"\"\n",
    "        self.year += 1\n",
    "    @classmethod\n",
    "    def count_instance(cls):\n",
    "        \"\"\"作成したインスタンスをカウントするクラスメソッド\"\"\"\n",
    "        cls.ctr += 1\n",
    "yamada = Human(\"山田\", 23, \"M\", 170.3, 60.2)\n",
    "takahashi = Human(\"高橋\", 30, \"F\", 165.2, 46.2)\n",
    "yamada.pass_a_year()"
   ]
  },
  {
   "cell_type": "code",
   "execution_count": 49,
   "metadata": {},
   "outputs": [
    {
     "data": {
      "text/plain": [
       "('山田', 24, 'M', 170.3, 60.2)"
      ]
     },
     "execution_count": 49,
     "metadata": {},
     "output_type": "execute_result"
    }
   ],
   "source": [
    "yamada.name, yamada.year, yamada.sex, yamada.length, yamada.weight"
   ]
  },
  {
   "cell_type": "code",
   "execution_count": 50,
   "metadata": {},
   "outputs": [
    {
     "data": {
      "text/plain": [
       "('高橋', 30, 'F', 165.2, 46.2)"
      ]
     },
     "execution_count": 50,
     "metadata": {},
     "output_type": "execute_result"
    }
   ],
   "source": [
    "takahashi.name, takahashi.year, takahashi.sex, takahashi.length, takahashi.weight"
   ]
  }
 ],
 "metadata": {
  "kernelspec": {
   "display_name": "Python 3",
   "language": "python",
   "name": "python3"
  },
  "language_info": {
   "codemirror_mode": {
    "name": "ipython",
    "version": 3
   },
   "file_extension": ".py",
   "mimetype": "text/x-python",
   "name": "python",
   "nbconvert_exporter": "python",
   "pygments_lexer": "ipython3",
   "version": "3.6.1"
  }
 },
 "nbformat": 4,
 "nbformat_minor": 2
}

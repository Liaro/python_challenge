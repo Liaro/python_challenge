{
 "cells": [
  {
   "cell_type": "code",
   "execution_count": 1,
   "metadata": {
    "collapsed": false
   },
   "outputs": [
    {
     "name": "stdout",
     "output_type": "stream",
     "text": [
      "[1, 2, 3, 4, 5, 6, 7, 8, 9, 10]\n"
     ]
    }
   ],
   "source": [
    "# 課題1\n",
    "list_1 = [i for i in range(1,11)]\n",
    "print(list_1)"
   ]
  },
  {
   "cell_type": "code",
   "execution_count": 2,
   "metadata": {
    "collapsed": false
   },
   "outputs": [
    {
     "name": "stdout",
     "output_type": "stream",
     "text": [
      "[2, 4, 6, 8, 10]\n"
     ]
    }
   ],
   "source": [
    "# 課題2\n",
    "list_2 = [i for i in range(1,11) if i % 2 == 0]\n",
    "print(list_2)"
   ]
  },
  {
   "cell_type": "code",
   "execution_count": 3,
   "metadata": {
    "collapsed": false
   },
   "outputs": [
    {
     "name": "stdout",
     "output_type": "stream",
     "text": [
      "{0: 'a', 1: 'b', 2: 'c', 3: 'd', 4: 'e', 5: 'f'}\n"
     ]
    }
   ],
   "source": [
    "# 課題3\n",
    "list_3 = [\"a\", \"b\", \"c\", \"d\", \"e\", \"f\"]\n",
    "dic_3 = {index:letter for (index,letter) in zip(range(6),list_3)}\n",
    "print(dic_3)"
   ]
  },
  {
   "cell_type": "code",
   "execution_count": 6,
   "metadata": {
    "collapsed": false
   },
   "outputs": [
    {
     "name": "stdout",
     "output_type": "stream",
     "text": [
      "山田さんの年齢(インクリメント後)：24歳\n",
      "\n",
      "Humanクラスのインスタンス数：2\n"
     ]
    }
   ],
   "source": [
    "# 課題4\n",
    "class Human:\n",
    "    count = 0 # インスタンスのカウント\n",
    "    \n",
    "    # コンストラクタ     \n",
    "    def __init__(self, name, age, sex, height, weight):\n",
    "        Human.count += 1 # インスタンスをカウントするクラスメソッド\n",
    "        self.name = name\n",
    "        self.age = age\n",
    "        self.sex = sex\n",
    "        self.height = height\n",
    "        self.weight = weight\n",
    "        \n",
    "    # 年齢をインクリメントするためのインスタンスメソッド． \n",
    "    def add_age(self):\n",
    "        self.age += 1\n",
    "        \n",
    "# インスタンスの作成 \n",
    "yamada_01 = Human(\"山田\", 23, \"男\", \"170.3cm\", \"60.2kg\")\n",
    "takahashi_01 = Human(\"高橋\", 30, \"女\", \"165.2cm\", \"46.2kg\")\n",
    "\n",
    "# 山田さんの年齢をインクリメント\n",
    "yamada_01.add_age()\n",
    "\n",
    "print(\"%sさんの年齢(インクリメント後)：%d歳\"%(yamada_01.name, yamada_01.age))\n",
    "print()\n",
    "print(\"Humanクラスのインスタンス数：%d\"%(Human.count))"
   ]
  }
 ],
 "metadata": {
  "kernelspec": {
   "display_name": "Python [default]",
   "language": "python",
   "name": "python3"
  },
  "language_info": {
   "codemirror_mode": {
    "name": "ipython",
    "version": 3
   },
   "file_extension": ".py",
   "mimetype": "text/x-python",
   "name": "python",
   "nbconvert_exporter": "python",
   "pygments_lexer": "ipython3",
   "version": "3.5.2"
  },
  "toc": {
   "colors": {
    "hover_highlight": "#DAA520",
    "running_highlight": "#FF0000",
    "selected_highlight": "#FFD700"
   },
   "moveMenuLeft": true,
   "nav_menu": {
    "height": "4px",
    "width": "253px"
   },
   "navigate_menu": true,
   "number_sections": true,
   "sideBar": true,
   "threshold": 4,
   "toc_cell": false,
   "toc_section_display": "block",
   "toc_window_display": false,
   "widenNotebook": false
  }
 },
 "nbformat": 4,
 "nbformat_minor": 2
}

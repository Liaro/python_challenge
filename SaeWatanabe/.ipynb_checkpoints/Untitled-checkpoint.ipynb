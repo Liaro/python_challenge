{
 "cells": [
  {
   "cell_type": "code",
   "execution_count": 2,
   "metadata": {
    "collapsed": false
   },
   "outputs": [
    {
     "name": "stdout",
     "output_type": "stream",
     "text": [
      "[1, 2, 3, 4, 5, 6, 7, 8, 9, 10]\n"
     ]
    }
   ],
   "source": [
    "# 課題１\n",
    "answer1 = list(range(1,11))\n",
    "print(answer1)"
   ]
  },
  {
   "cell_type": "code",
   "execution_count": 5,
   "metadata": {
    "collapsed": false
   },
   "outputs": [
    {
     "name": "stdout",
     "output_type": "stream",
     "text": [
      "[2, 4, 6, 8, 10]\n"
     ]
    }
   ],
   "source": [
    "# 課題２\n",
    "answer2 = [i for i in answer1 if i%2 == 0]\n",
    "print(answer2)"
   ]
  },
  {
   "cell_type": "code",
   "execution_count": 8,
   "metadata": {
    "collapsed": false
   },
   "outputs": [
    {
     "name": "stdout",
     "output_type": "stream",
     "text": [
      "{0: 'a', 1: 'b', 2: 'c', 3: 'd', 4: 'e', 5: 'f'}\n"
     ]
    }
   ],
   "source": [
    "# 課題３\n",
    "list1 = [\"a\",\"b\",\"c\",\"d\",\"e\",\"f\"]\n",
    "answer3 = {i:list1[i] for i in range(len(list1))}\n",
    "print(answer3)"
   ]
  },
  {
   "cell_type": "code",
   "execution_count": 18,
   "metadata": {
    "collapsed": false
   },
   "outputs": [
    {
     "name": "stdout",
     "output_type": "stream",
     "text": [
      "インクリメント前\n",
      "山田　...　名前:山田 年齢:23歳 性別:男 身長:170.3cm 体重:60.2kg\n",
      "高橋　...　名前:高橋 年齢:30歳 性別:女 身長:165.2cm 体重:46.2kg\n",
      "\n",
      "インクリメント後\n",
      "山田　...　名前:山田 年齢:24歳 性別:男 身長:170.3cm 体重:60.2kg\n",
      "高橋　...　名前:高橋 年齢:30歳 性別:女 身長:165.2cm 体重:46.2kg\n",
      "\n",
      "Humanクラスのインスタンスカウント　...　2\n"
     ]
    }
   ],
   "source": [
    "# 課題４\n",
    "class Human:\n",
    "    \n",
    "    # インスタンスのカウント\n",
    "    cnt = 0\n",
    "    \n",
    "    # コンストラクタでデータを初期化    \n",
    "    def __init__ (self,name,age,sex,height,weight):\n",
    "        \n",
    "        # インスタンスをカウントアップ\n",
    "        Human.cnt += 1\n",
    "        \n",
    "        # データの初期化\n",
    "        self.name = name\n",
    "        self.age = age\n",
    "        self.sex = sex\n",
    "        self.height = height\n",
    "        self.weight = weight\n",
    "        \n",
    "    # 年齢をインクリメント\n",
    "    def countup_age(self):\n",
    "        self.age += 1\n",
    "        \n",
    "    # クラスメソッドを作成\n",
    "    @classmethod\n",
    "    def class_count(cls):\n",
    "        return cls.cnt\n",
    "    \n",
    "    # 文字列を返す\n",
    "    def __repr__(self):\n",
    "        return \"名前:%s 年齢:%d歳 性別:%s 身長:%.1fcm 体重:%.1fkg\"%(self.name,self.age,self.sex,self.height,self.weight)\n",
    "        \n",
    "    \n",
    "# インスタンスを作成 \n",
    "yamada = Human(name=\"山田\", age=23, sex=\"男\", height=170.3, weight=60.2)\n",
    "takahashi = Human(name=\"高橋\", age=30, sex=\"女\", height=165.2, weight=46.2)\n",
    "\n",
    "print(\"インクリメント前\")\n",
    "print(\"山田　...　%s\"%yamada)\n",
    "print(\"高橋　...　%s\"%takahashi)\n",
    "print()\n",
    "\n",
    "# 山田の年齢をインクリメント\n",
    "yamada.countup_age()\n",
    "\n",
    "print(\"インクリメント後\")\n",
    "print(\"山田　...　%s\"%yamada)\n",
    "print(\"高橋　...　%s\"%takahashi)\n",
    "print()\n",
    "\n",
    "print(\"Humanクラスのインスタンスカウント　...　%d\"%Human.class_count())\n",
    "\n"
   ]
  }
 ],
 "metadata": {
  "kernelspec": {
   "display_name": "Python 3",
   "language": "python",
   "name": "python3"
  },
  "language_info": {
   "codemirror_mode": {
    "name": "ipython",
    "version": 3
   },
   "file_extension": ".py",
   "mimetype": "text/x-python",
   "name": "python",
   "nbconvert_exporter": "python",
   "pygments_lexer": "ipython3",
   "version": "3.6.0"
  }
 },
 "nbformat": 4,
 "nbformat_minor": 2
}
